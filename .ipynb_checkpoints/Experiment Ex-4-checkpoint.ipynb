{
 "cells": [
  {
   "cell_type": "markdown",
   "id": "9df3f0e4",
   "metadata": {},
   "source": [
    "# Question 1"
   ]
  },
  {
   "cell_type": "code",
   "execution_count": 31,
   "id": "b6ddfce8",
   "metadata": {},
   "outputs": [],
   "source": [
    "import numpy as np\n",
    "import matplotlib.pyplot as plt\n",
    "import random"
   ]
  },
  {
   "cell_type": "code",
   "execution_count": 32,
   "id": "a7b01c90",
   "metadata": {},
   "outputs": [],
   "source": [
    "Hight_weight_file=\"male_female_X_train.txt\"\n",
    "with open(Hight_weight_file,'r',encoding=\"utf8\") as f:\n",
    "    height_weight = [x.rstrip().split(' ') for x in f.readlines()]"
   ]
  },
  {
   "cell_type": "code",
   "execution_count": 33,
   "id": "5ed83e02",
   "metadata": {},
   "outputs": [],
   "source": [
    "np_height_weight = np.array(height_weight)\n",
    "\n",
    "np_height_weight_float = np.asarray(np_height_weight, dtype=float)"
   ]
  },
  {
   "cell_type": "code",
   "execution_count": 34,
   "id": "1729bd48",
   "metadata": {},
   "outputs": [],
   "source": [
    "male_female_class_file=\"male_female_y_train.txt\"\n",
    "with open(male_female_class_file,'r',encoding=\"utf8\") as f:\n",
    "    male_female_class = [x for x in f.readlines()]"
   ]
  },
  {
   "cell_type": "code",
   "execution_count": 35,
   "id": "5d06dc5f",
   "metadata": {},
   "outputs": [],
   "source": [
    "np_male_female_class=np.array(male_female_class)\n",
    "np_male_female_class_float = np.asarray(np_male_female_class, dtype=float)"
   ]
  },
  {
   "cell_type": "code",
   "execution_count": 36,
   "id": "fa8ec254",
   "metadata": {},
   "outputs": [
    {
     "name": "stdout",
     "output_type": "stream",
     "text": [
      "2389\n",
      "2389\n"
     ]
    }
   ],
   "source": [
    "print(len(np_height_weight_float))\n",
    "\n",
    "print(len(np_male_female_class_float))"
   ]
  },
  {
   "cell_type": "code",
   "execution_count": 37,
   "id": "11f47477",
   "metadata": {},
   "outputs": [],
   "source": [
    "male_heights = np_height_weight_float[np_male_female_class_float == 0][:, 0]\n",
    "female_heights = np_height_weight_float[np_male_female_class_float == 1][:, 0]\n"
   ]
  },
  {
   "cell_type": "code",
   "execution_count": 38,
   "id": "7064083a",
   "metadata": {},
   "outputs": [],
   "source": [
    "male_weight = np_height_weight_float[np_male_female_class_float == 0][:, 1]\n",
    "female_weight = np_height_weight_float[np_male_female_class_float == 1][:, 1]"
   ]
  },
  {
   "cell_type": "code",
   "execution_count": 39,
   "id": "7cf8cc7d",
   "metadata": {},
   "outputs": [],
   "source": [
    "height_bin_range = [80, 220]\n",
    "weight_bin_range = [30, 180]"
   ]
  },
  {
   "cell_type": "markdown",
   "id": "3735fc4b",
   "metadata": {},
   "source": [
    "# -----------------------------------------"
   ]
  },
  {
   "cell_type": "code",
   "execution_count": 41,
   "id": "1d23a819",
   "metadata": {},
   "outputs": [],
   "source": [
    "male_hist, bins_m = np.histogram(male_heights, bins=10, range=height_bin_range)\n",
    "female_hist, bins_f = np.histogram(female_heights, bins=10, range=height_bin_range)"
   ]
  },
  {
   "cell_type": "code",
   "execution_count": 42,
   "id": "80583f11",
   "metadata": {},
   "outputs": [
    {
     "name": "stdout",
     "output_type": "stream",
     "text": [
      "[  0   0   0   0  25 269 610 263  27   0]\n",
      "[ 80.  94. 108. 122. 136. 150. 164. 178. 192. 206. 220.]\n",
      "[  0   0   6 120 478 470 116   5   0   0]\n",
      "[ 80.  94. 108. 122. 136. 150. 164. 178. 192. 206. 220.]\n"
     ]
    }
   ],
   "source": [
    "print(male_hist)\n",
    "print(bins_m)\n",
    "\n",
    "print(female_hist)\n",
    "print(bins_f)"
   ]
  },
  {
   "cell_type": "markdown",
   "id": "4ad4e5f9",
   "metadata": {},
   "source": [
    "# ----------------------------------------------"
   ]
  },
  {
   "cell_type": "code",
   "execution_count": 44,
   "id": "4211c962",
   "metadata": {},
   "outputs": [
    {
     "data": {
      "text/plain": [
       "(array([  0.,   0.,   6., 120., 478., 470., 116.,   5.,   0.,   0.]),\n",
       " array([ 80.,  94., 108., 122., 136., 150., 164., 178., 192., 206., 220.]),\n",
       " <BarContainer object of 10 artists>)"
      ]
     },
     "execution_count": 44,
     "metadata": {},
     "output_type": "execute_result"
    },
    {
     "data": {
      "image/png": "[encoded data removed]",
      "text/plain": [
       "<Figure size 640x480 with 1 Axes>"
      ]
     },
     "metadata": {},
     "output_type": "display_data"
    }
   ],
   "source": [
    "plt.hist(male_heights, bins=10,range=height_bin_range, alpha=0.5, label='Male', color='blue',edgecolor='black')\n",
    "plt.hist(female_heights, bins=10,range=height_bin_range, alpha=0.5, label='Female', color='pink',edgecolor='black')"
   ]
  },
  {
   "cell_type": "code",
   "execution_count": 45,
   "id": "08c80be5",
   "metadata": {},
   "outputs": [
    {
     "data": {
      "text/plain": [
       "(array([ 94., 431., 499., 157.,  13.,   1.,   0.,   0.,   0.,   0.]),\n",
       " array([ 30.,  45.,  60.,  75.,  90., 105., 120., 135., 150., 165., 180.]),\n",
       " <BarContainer object of 10 artists>)"
      ]
     },
     "execution_count": 45,
     "metadata": {},
     "output_type": "execute_result"
    },
    {
     "data": {
      "image/png": "[encoded data removed]",
      "text/plain": [
       "<Figure size 640x480 with 1 Axes>"
      ]
     },
     "metadata": {},
     "output_type": "display_data"
    }
   ],
   "source": [
    "plt.hist(male_weight, bins=10,range=weight_bin_range, alpha=0.5, label='Male', color='blue',edgecolor='black')\n",
    "plt.hist(female_weight, bins=10,range=weight_bin_range, alpha=0.5, label='Female', color='pink',edgecolor='black')"
   ]
  },
  {
   "cell_type": "markdown",
   "id": "3fd80887",
   "metadata": {},
   "source": [
    "# Question 2"
   ]
  },
  {
   "cell_type": "code",
   "execution_count": 46,
   "id": "65289773",
   "metadata": {},
   "outputs": [],
   "source": [
    "import numpy as np\n",
    "import matplotlib.pyplot as plt"
   ]
  },
  {
   "cell_type": "code",
   "execution_count": 47,
   "id": "c2853264",
   "metadata": {},
   "outputs": [],
   "source": [
    "test_male_female_class_file=\"male_female_y_test.txt\"\n",
    "with open(test_male_female_class_file,'r',encoding=\"utf8\") as f:\n",
    "    test_male_female_class = [x for x in f.readlines()]"
   ]
  },
  {
   "cell_type": "code",
   "execution_count": 48,
   "id": "5d9bea9e",
   "metadata": {},
   "outputs": [],
   "source": [
    "np_test_male_female_class=np.array(test_male_female_class)\n",
    "np_test_male_female_class_float = np.asarray(np_test_male_female_class, dtype=float)"
   ]
  },
  {
   "cell_type": "code",
   "execution_count": 49,
   "id": "138bcc82",
   "metadata": {},
   "outputs": [
    {
     "name": "stdout",
     "output_type": "stream",
     "text": [
      "597\n"
     ]
    }
   ],
   "source": [
    "print(len(np_test_male_female_class_float))"
   ]
  },
  {
   "cell_type": "code",
   "execution_count": 50,
   "id": "698914db",
   "metadata": {},
   "outputs": [],
   "source": [
    "random_class_list = []"
   ]
  },
  {
   "cell_type": "code",
   "execution_count": 51,
   "id": "36b4e5c8",
   "metadata": {},
   "outputs": [],
   "source": [
    "for  i in range(len(np_test_male_female_class_float)):\n",
    "    random_value = random.randint(0, 1)\n",
    "    random_class_list.append(random_value)"
   ]
  },
  {
   "cell_type": "code",
   "execution_count": 52,
   "id": "7db02e62",
   "metadata": {},
   "outputs": [],
   "source": [
    "np_random_class_list=np.array(random_class_list)"
   ]
  },
  {
   "cell_type": "code",
   "execution_count": 53,
   "id": "a329fb2f",
   "metadata": {},
   "outputs": [],
   "source": [
    "np_random_class_list_float = np.asarray(np_random_class_list, dtype=float)"
   ]
  },
  {
   "cell_type": "code",
   "execution_count": 54,
   "id": "e243c1e8",
   "metadata": {},
   "outputs": [
    {
     "name": "stdout",
     "output_type": "stream",
     "text": [
      "[0. 0. 0. 0. 1. 1. 0. 1. 0. 1. 1. 1. 0. 1. 1. 1. 1. 0. 1. 1. 1. 1. 0. 1.\n",
      " 1. 0. 0. 1. 0. 0. 0. 1. 0. 0. 1. 1. 1. 1. 0. 1. 0. 0. 0. 0. 0. 0. 0. 0.\n",
      " 1. 1. 0. 1. 0. 1. 1. 0. 1. 1. 1. 1. 0. 1. 0. 0. 0. 0. 0. 0. 1. 0. 1. 0.\n",
      " 1. 0. 0. 0. 1. 1. 0. 0. 0. 1. 0. 0. 1. 0. 0. 1. 0. 1. 0. 0. 1. 0. 1. 0.\n",
      " 1. 1. 0. 0. 1. 1. 0. 1. 0. 1. 0. 0. 1. 0. 1. 1. 0. 1. 1. 0. 0. 0. 0. 0.\n",
      " 1. 1. 1. 1. 1. 0. 0. 0. 1. 1. 0. 1. 0. 0. 1. 1. 1. 1. 0. 1. 0. 1. 1. 1.\n",
      " 0. 0. 1. 0. 1. 1. 0. 1. 0. 0. 0. 1. 0. 1. 1. 1. 1. 1. 0. 0. 0. 0. 0. 1.\n",
      " 0. 0. 1. 0. 1. 0. 1. 0. 0. 1. 0. 1. 1. 1. 1. 1. 1. 1. 1. 0. 0. 1. 0. 0.\n",
      " 0. 0. 0. 1. 1. 1. 1. 0. 1. 0. 1. 1. 1. 0. 0. 0. 1. 1. 1. 0. 0. 0. 0. 0.\n",
      " 0. 1. 1. 0. 1. 0. 1. 1. 0. 1. 1. 1. 1. 0. 1. 1. 0. 0. 1. 0. 1. 1. 1. 0.\n",
      " 1. 0. 0. 1. 1. 0. 0. 0. 0. 0. 1. 0. 0. 1. 1. 1. 0. 1. 1. 0. 1. 1. 1. 1.\n",
      " 0. 1. 1. 0. 1. 1. 0. 1. 0. 1. 0. 1. 1. 0. 0. 1. 1. 0. 1. 1. 1. 0. 0. 0.\n",
      " 1. 0. 1. 1. 1. 0. 0. 0. 0. 1. 0. 0. 1. 1. 0. 0. 0. 1. 1. 1. 0. 0. 0. 0.\n",
      " 1. 1. 0. 0. 1. 1. 0. 1. 0. 0. 1. 0. 0. 1. 0. 1. 1. 0. 0. 0. 1. 1. 1. 0.\n",
      " 0. 0. 1. 0. 1. 1. 1. 0. 0. 1. 0. 1. 0. 0. 0. 1. 1. 1. 0. 0. 1. 0. 0. 0.\n",
      " 0. 0. 0. 0. 0. 0. 1. 0. 1. 1. 0. 0. 0. 1. 1. 0. 0. 1. 0. 0. 1. 0. 0. 0.\n",
      " 1. 1. 0. 0. 0. 0. 1. 1. 1. 1. 1. 0. 0. 1. 1. 0. 0. 0. 1. 1. 1. 0. 1. 0.\n",
      " 0. 1. 1. 0. 0. 1. 1. 0. 0. 0. 0. 0. 0. 0. 0. 0. 0. 1. 1. 1. 1. 0. 0. 1.\n",
      " 1. 1. 1. 0. 1. 1. 1. 0. 1. 1. 1. 0. 0. 1. 1. 1. 0. 0. 1. 1. 0. 1. 1. 1.\n",
      " 0. 0. 0. 1. 0. 1. 0. 1. 1. 1. 0. 1. 1. 1. 1. 0. 0. 0. 0. 0. 1. 1. 0. 1.\n",
      " 1. 0. 0. 0. 1. 1. 1. 1. 1. 0. 0. 0. 0. 0. 1. 0. 0. 1. 0. 0. 0. 1. 0. 1.\n",
      " 0. 1. 0. 1. 0. 1. 1. 1. 0. 0. 0. 1. 1. 1. 0. 1. 1. 1. 1. 0. 0. 1. 1. 1.\n",
      " 0. 0. 0. 1. 0. 0. 1. 0. 0. 1. 0. 1. 0. 0. 0. 0. 1. 0. 1. 0. 0. 1. 1. 0.\n",
      " 0. 1. 0. 0. 0. 1. 0. 0. 1. 1. 0. 1. 0. 1. 1. 0. 1. 0. 0. 1. 1. 0. 1. 0.\n",
      " 1. 0. 0. 0. 1. 1. 0. 0. 0. 0. 0. 1. 1. 0. 0. 0. 1. 0. 0. 0. 1.]\n"
     ]
    }
   ],
   "source": [
    "print(np_random_class_list_float)"
   ]
  },
  {
   "cell_type": "code",
   "execution_count": 55,
   "id": "17eb9c23",
   "metadata": {},
   "outputs": [],
   "source": [
    "test_labels=np_test_male_female_class_float\n",
    "random_predicted_labels=np_random_class_list_float"
   ]
  },
  {
   "cell_type": "code",
   "execution_count": 56,
   "id": "bb507ef0",
   "metadata": {},
   "outputs": [
    {
     "name": "stdout",
     "output_type": "stream",
     "text": [
      "597\n",
      "597\n"
     ]
    }
   ],
   "source": [
    "print(len(test_labels))\n",
    "print(len(random_predicted_labels))"
   ]
  },
  {
   "cell_type": "code",
   "execution_count": 57,
   "id": "9c74157c",
   "metadata": {},
   "outputs": [],
   "source": [
    "random_correct_predictions=0\n",
    "\n",
    "for test_label, random_predicted_label in zip(test_labels, random_predicted_labels):\n",
    "    if test_label == random_predicted_label:\n",
    "        random_correct_predictions += 1"
   ]
  },
  {
   "cell_type": "code",
   "execution_count": 58,
   "id": "ac60aed0",
   "metadata": {},
   "outputs": [
    {
     "name": "stdout",
     "output_type": "stream",
     "text": [
      "306\n"
     ]
    }
   ],
   "source": [
    "print(random_correct_predictions)"
   ]
  },
  {
   "cell_type": "code",
   "execution_count": 59,
   "id": "6968533d",
   "metadata": {},
   "outputs": [],
   "source": [
    "number_of_test_semples= len(test_labels)"
   ]
  },
  {
   "cell_type": "code",
   "execution_count": 60,
   "id": "cc3f01ba",
   "metadata": {},
   "outputs": [],
   "source": [
    "accuracy_random = random_correct_predictions / number_of_test_semples"
   ]
  },
  {
   "cell_type": "code",
   "execution_count": 61,
   "id": "6645b23d",
   "metadata": {},
   "outputs": [
    {
     "name": "stdout",
     "output_type": "stream",
     "text": [
      "0.513\n"
     ]
    }
   ],
   "source": [
    "print(round(accuracy_random,3))"
   ]
  },
  {
   "cell_type": "markdown",
   "id": "c56e4e7b",
   "metadata": {},
   "source": [
    "# 2nd part"
   ]
  },
  {
   "cell_type": "code",
   "execution_count": 62,
   "id": "bbb727a1",
   "metadata": {},
   "outputs": [],
   "source": [
    "male_female_class_file=\"male_female_y_train.txt\"\n",
    "with open(male_female_class_file,'r',encoding=\"utf8\") as f:\n",
    "    male_female_class = [x for x in f.readlines()]"
   ]
  },
  {
   "cell_type": "code",
   "execution_count": 63,
   "id": "95869b39",
   "metadata": {},
   "outputs": [],
   "source": [
    "np_male_female_class=np.array(male_female_class)\n",
    "np_male_female_class_float = np.asarray(np_male_female_class, dtype=float)"
   ]
  },
  {
   "cell_type": "code",
   "execution_count": 64,
   "id": "01f1c92b",
   "metadata": {},
   "outputs": [],
   "source": [
    "male_mask= (np_male_female_class_float==0)"
   ]
  },
  {
   "cell_type": "code",
   "execution_count": 65,
   "id": "2ed5284d",
   "metadata": {},
   "outputs": [],
   "source": [
    "number_of_male=sum(male_mask)"
   ]
  },
  {
   "cell_type": "code",
   "execution_count": 66,
   "id": "26a2b7e3",
   "metadata": {},
   "outputs": [
    {
     "name": "stdout",
     "output_type": "stream",
     "text": [
      "1194\n"
     ]
    }
   ],
   "source": [
    "print(number_of_male)"
   ]
  },
  {
   "cell_type": "code",
   "execution_count": 67,
   "id": "3b67bfa5",
   "metadata": {},
   "outputs": [
    {
     "name": "stdout",
     "output_type": "stream",
     "text": [
      "2389\n"
     ]
    }
   ],
   "source": [
    "print(len(np_male_female_class_float))"
   ]
  },
  {
   "cell_type": "code",
   "execution_count": 68,
   "id": "4b87289c",
   "metadata": {},
   "outputs": [],
   "source": [
    "female_mask= (np_male_female_class_float==1)"
   ]
  },
  {
   "cell_type": "code",
   "execution_count": 69,
   "id": "a5e173d1",
   "metadata": {},
   "outputs": [],
   "source": [
    "number_of_female=sum(female_mask)"
   ]
  },
  {
   "cell_type": "code",
   "execution_count": 70,
   "id": "cfb03022",
   "metadata": {},
   "outputs": [
    {
     "name": "stdout",
     "output_type": "stream",
     "text": [
      "1195\n"
     ]
    }
   ],
   "source": [
    "print(number_of_female)"
   ]
  },
  {
   "cell_type": "code",
   "execution_count": 71,
   "id": "49f44169",
   "metadata": {},
   "outputs": [],
   "source": [
    "if(number_of_male<number_of_female):\n",
    "    assigned_test_class=[1]*len(np_test_male_female_class_float)\n",
    "    \n",
    "else:\n",
    "    assigned_test_class=[0]*len(np_test_male_female_class_float)"
   ]
  },
  {
   "cell_type": "code",
   "execution_count": 72,
   "id": "89d98506",
   "metadata": {},
   "outputs": [
    {
     "name": "stdout",
     "output_type": "stream",
     "text": [
      "597\n"
     ]
    }
   ],
   "source": [
    "print(len(assigned_test_class))"
   ]
  },
  {
   "cell_type": "code",
   "execution_count": 73,
   "id": "89f0dd9d",
   "metadata": {},
   "outputs": [],
   "source": [
    "np_assigned_test_class=np.array(assigned_test_class)"
   ]
  },
  {
   "cell_type": "code",
   "execution_count": 74,
   "id": "2c536b7e",
   "metadata": {},
   "outputs": [],
   "source": [
    "np_assigned_test_class_float=np.asarray(np_assigned_test_class, dtype=float)"
   ]
  },
  {
   "cell_type": "code",
   "execution_count": 75,
   "id": "76559940",
   "metadata": {},
   "outputs": [],
   "source": [
    "assigned_predicted_levels = np_assigned_test_class_float"
   ]
  },
  {
   "cell_type": "code",
   "execution_count": 76,
   "id": "844a65ee",
   "metadata": {},
   "outputs": [
    {
     "name": "stdout",
     "output_type": "stream",
     "text": [
      "597\n"
     ]
    }
   ],
   "source": [
    "print(len(test_labels))"
   ]
  },
  {
   "cell_type": "code",
   "execution_count": 77,
   "id": "3b12f5a6",
   "metadata": {},
   "outputs": [],
   "source": [
    "likelihood_correct_predictions=0\n",
    "\n",
    "for test_label, assigned_predicted_level in zip(test_labels, assigned_predicted_levels):\n",
    "    if test_label == assigned_predicted_level:\n",
    "        likelihood_correct_predictions += 1"
   ]
  },
  {
   "cell_type": "code",
   "execution_count": 78,
   "id": "784445df",
   "metadata": {},
   "outputs": [],
   "source": [
    "accuracy_likelihood= likelihood_correct_predictions / number_of_test_semples"
   ]
  },
  {
   "cell_type": "code",
   "execution_count": 79,
   "id": "70ce6cef",
   "metadata": {},
   "outputs": [
    {
     "name": "stdout",
     "output_type": "stream",
     "text": [
      "597\n",
      "299\n"
     ]
    }
   ],
   "source": [
    "print(number_of_test_semples)\n",
    "print(likelihood_correct_predictions)"
   ]
  },
  {
   "cell_type": "code",
   "execution_count": 80,
   "id": "5fb6c866",
   "metadata": {},
   "outputs": [
    {
     "name": "stdout",
     "output_type": "stream",
     "text": [
      "0.501\n"
     ]
    }
   ],
   "source": [
    "print(round(accuracy_likelihood,3))"
   ]
  },
  {
   "cell_type": "markdown",
   "id": "90fc1d75",
   "metadata": {},
   "source": [
    "# Question 3"
   ]
  },
  {
   "cell_type": "code",
   "execution_count": 81,
   "id": "e5aca771",
   "metadata": {},
   "outputs": [],
   "source": [
    "Hight_weight_file=\"male_female_X_train.txt\"\n",
    "with open(Hight_weight_file,'r',encoding=\"utf8\") as f:\n",
    "    height_weight = [x.rstrip().split(' ') for x in f.readlines()]"
   ]
  },
  {
   "cell_type": "code",
   "execution_count": 82,
   "id": "30c4a339",
   "metadata": {},
   "outputs": [],
   "source": [
    "np_height_weight = np.array(height_weight)\n",
    "\n",
    "np_height_weight_float = np.asarray(np_height_weight, dtype=float)"
   ]
  },
  {
   "cell_type": "code",
   "execution_count": 83,
   "id": "9f45fe66",
   "metadata": {},
   "outputs": [],
   "source": [
    "male_female_class_file=\"male_female_y_train.txt\"\n",
    "with open(male_female_class_file,'r',encoding=\"utf8\") as f:\n",
    "    male_female_class = [x for x in f.readlines()]"
   ]
  },
  {
   "cell_type": "code",
   "execution_count": 84,
   "id": "4866f947",
   "metadata": {},
   "outputs": [],
   "source": [
    "np_male_female_class=np.array(male_female_class)\n",
    "np_male_female_class_float = np.asarray(np_male_female_class, dtype=float)"
   ]
  },
  {
   "cell_type": "code",
   "execution_count": 85,
   "id": "43a71d1b",
   "metadata": {},
   "outputs": [],
   "source": [
    "mask_male=(np_male_female_class_float==0)"
   ]
  },
  {
   "cell_type": "code",
   "execution_count": 86,
   "id": "33209c90",
   "metadata": {},
   "outputs": [],
   "source": [
    "number_of_male=sum(mask_male)"
   ]
  },
  {
   "cell_type": "code",
   "execution_count": 87,
   "id": "25447916",
   "metadata": {},
   "outputs": [
    {
     "name": "stdout",
     "output_type": "stream",
     "text": [
      "1194\n"
     ]
    }
   ],
   "source": [
    "print(number_of_male)"
   ]
  },
  {
   "cell_type": "code",
   "execution_count": 88,
   "id": "34ef4f9a",
   "metadata": {},
   "outputs": [],
   "source": [
    "mask_female=(np_male_female_class_float==1)"
   ]
  },
  {
   "cell_type": "code",
   "execution_count": 89,
   "id": "6677fa1a",
   "metadata": {},
   "outputs": [],
   "source": [
    "number_of_female=sum(mask_female)"
   ]
  },
  {
   "cell_type": "code",
   "execution_count": 90,
   "id": "d094a6c7",
   "metadata": {},
   "outputs": [
    {
     "name": "stdout",
     "output_type": "stream",
     "text": [
      "1195\n"
     ]
    }
   ],
   "source": [
    "print(number_of_female)"
   ]
  },
  {
   "cell_type": "markdown",
   "id": "5ea91837",
   "metadata": {},
   "source": [
    "# Probability of male and female"
   ]
  },
  {
   "cell_type": "code",
   "execution_count": 91,
   "id": "10d9f0c4",
   "metadata": {},
   "outputs": [],
   "source": [
    "priobability_of_male= round(number_of_male/len(np_male_female_class_float),5)"
   ]
  },
  {
   "cell_type": "code",
   "execution_count": 92,
   "id": "a85551e7",
   "metadata": {},
   "outputs": [],
   "source": [
    "priobability_of_female= round(number_of_female/len(np_male_female_class_float),5)"
   ]
  },
  {
   "cell_type": "code",
   "execution_count": 93,
   "id": "cde2ade1",
   "metadata": {},
   "outputs": [
    {
     "name": "stdout",
     "output_type": "stream",
     "text": [
      "0.49979\n",
      "0.50021\n"
     ]
    }
   ],
   "source": [
    "print(priobability_of_male)\n",
    "print(priobability_of_female)"
   ]
  },
  {
   "cell_type": "markdown",
   "id": "6d796b65",
   "metadata": {},
   "source": [
    "# Probability of Height"
   ]
  },
  {
   "cell_type": "code",
   "execution_count": 94,
   "id": "75a939be",
   "metadata": {},
   "outputs": [],
   "source": [
    "male_heights = np_height_weight_float[np_male_female_class_float == 0][:, 0]\n",
    "female_heights = np_height_weight_float[np_male_female_class_float == 1][:, 0]"
   ]
  },
  {
   "cell_type": "code",
   "execution_count": 95,
   "id": "fafa9594",
   "metadata": {},
   "outputs": [],
   "source": [
    "height_bin_range = [80, 220]"
   ]
  },
  {
   "cell_type": "code",
   "execution_count": 96,
   "id": "4668e3ac",
   "metadata": {},
   "outputs": [
    {
     "data": {
      "image/png": "[encoded data removed]",
      "text/plain": [
       "<Figure size 640x480 with 1 Axes>"
      ]
     },
     "metadata": {},
     "output_type": "display_data"
    }
   ],
   "source": [
    "hist_male_h, bins_male_h, _ = plt.hist(male_heights, bins=10,range=height_bin_range, alpha=0.5, label='Male', color='blue',edgecolor='black')\n",
    "hist_female_h, bins_female_h, _ = plt.hist(female_heights, bins=10,range=height_bin_range, alpha=0.5, label='Male', color='pink',edgecolor='black')\n",
    "\n",
    "\n"
   ]
  },
  {
   "cell_type": "code",
   "execution_count": 97,
   "id": "ce50b581",
   "metadata": {},
   "outputs": [],
   "source": [
    "male_female_bin_centers_h = (bins_male_h[:-1] + bins_male_h[1:]) / 2"
   ]
  },
  {
   "cell_type": "code",
   "execution_count": 98,
   "id": "69b62f59",
   "metadata": {},
   "outputs": [],
   "source": [
    "def compute_probability_of_height(h):\n",
    "    subtracted_bin_centers=np.abs(male_female_bin_centers_h-h)\n",
    "    h_bin_index=np.argsort(subtracted_bin_centers)[0]\n",
    "    h_bin_index_male_female=hist_male_h[h_bin_index]+hist_female_h[h_bin_index]\n",
    "    probability_of_h=h_bin_index_male_female/len(np_male_female_class_float)\n",
    "    return probability_of_h\n",
    "    "
   ]
  },
  {
   "cell_type": "code",
   "execution_count": 99,
   "id": "3c3644d9",
   "metadata": {},
   "outputs": [
    {
     "name": "stdout",
     "output_type": "stream",
     "text": [
      "0.30389284219338636\n"
     ]
    }
   ],
   "source": [
    "print(compute_probability_of_height(male_heights[0]))"
   ]
  },
  {
   "cell_type": "markdown",
   "id": "9bc4b07a",
   "metadata": {},
   "source": [
    "# Probability of Height Given male"
   ]
  },
  {
   "cell_type": "code",
   "execution_count": 100,
   "id": "946d94f9",
   "metadata": {},
   "outputs": [],
   "source": [
    "mask_male=(np_male_female_class_float==0)\n",
    "number_of_male=sum(mask_male)"
   ]
  },
  {
   "cell_type": "code",
   "execution_count": 101,
   "id": "47927a79",
   "metadata": {},
   "outputs": [],
   "source": [
    "def compute_probability_of_height_given_male(h):\n",
    "    subtracted_bin_centers=np.abs(male_female_bin_centers_h-h)\n",
    "    h_bin_index=np.argsort(subtracted_bin_centers)[0]\n",
    "    h_bin_index_male=hist_male_h[h_bin_index]\n",
    "    probability_of_h_male=h_bin_index_male/number_of_male\n",
    "    return probability_of_h_male"
   ]
  },
  {
   "cell_type": "code",
   "execution_count": 102,
   "id": "b050b47c",
   "metadata": {},
   "outputs": [
    {
     "name": "stdout",
     "output_type": "stream",
     "text": [
      "0.5108877721943048\n"
     ]
    }
   ],
   "source": [
    "print(compute_probability_of_height_given_male(male_heights[0]))"
   ]
  },
  {
   "cell_type": "markdown",
   "id": "15cdec22",
   "metadata": {},
   "source": [
    "# Probability of Height Given female"
   ]
  },
  {
   "cell_type": "code",
   "execution_count": 103,
   "id": "dc4c876c",
   "metadata": {},
   "outputs": [],
   "source": [
    "mask_female=(np_male_female_class_float==1)\n",
    "number_of_female=sum(mask_female)"
   ]
  },
  {
   "cell_type": "code",
   "execution_count": 104,
   "id": "36832f9e",
   "metadata": {},
   "outputs": [],
   "source": [
    "def compute_probability_of_height_given_female(h):\n",
    "    subtracted_bin_centers=np.abs(male_female_bin_centers_h-h)\n",
    "    h_bin_index=np.argsort(subtracted_bin_centers)[0]\n",
    "    h_bin_index_female=hist_female_h[h_bin_index]\n",
    "    probability_of_h_female=h_bin_index_female/number_of_female\n",
    "    return probability_of_h_female"
   ]
  },
  {
   "cell_type": "code",
   "execution_count": 105,
   "id": "50ca1a19",
   "metadata": {},
   "outputs": [
    {
     "name": "stdout",
     "output_type": "stream",
     "text": [
      "0.09707112970711297\n"
     ]
    }
   ],
   "source": [
    "print(compute_probability_of_height_given_female(male_heights[0]))"
   ]
  },
  {
   "cell_type": "markdown",
   "id": "b4704248",
   "metadata": {},
   "source": [
    "# Probabity of weight "
   ]
  },
  {
   "cell_type": "code",
   "execution_count": 106,
   "id": "2f49eda0",
   "metadata": {},
   "outputs": [],
   "source": [
    "male_weight = np_height_weight_float[np_male_female_class_float == 0][:, 1]\n",
    "female_weight = np_height_weight_float[np_male_female_class_float == 1][:, 1]"
   ]
  },
  {
   "cell_type": "code",
   "execution_count": 107,
   "id": "dd710049",
   "metadata": {},
   "outputs": [],
   "source": [
    "weight_bin_range = [30, 180]"
   ]
  },
  {
   "cell_type": "code",
   "execution_count": 108,
   "id": "a81ee394",
   "metadata": {},
   "outputs": [
    {
     "data": {
      "image/png": "[encoded data removed]",
      "text/plain": [
       "<Figure size 640x480 with 1 Axes>"
      ]
     },
     "metadata": {},
     "output_type": "display_data"
    }
   ],
   "source": [
    "hist_male_w, bins_male_w, _ = plt.hist(male_weight, bins=10,range=weight_bin_range, alpha=0.5, label='Male', color='blue',edgecolor='black')\n",
    "hist_female_w, bins_female_w, _ = plt.hist(female_weight, bins=10,range=weight_bin_range, alpha=0.5, label='Male', color='pink',edgecolor='black')\n"
   ]
  },
  {
   "cell_type": "code",
   "execution_count": 109,
   "id": "e0e350f4",
   "metadata": {},
   "outputs": [],
   "source": [
    "male_female_bin_centers_w = (bins_male_w[:-1] + bins_male_w[1:]) / 2"
   ]
  },
  {
   "cell_type": "code",
   "execution_count": 110,
   "id": "c0860d1b",
   "metadata": {},
   "outputs": [],
   "source": [
    "def compute_probability_of_weight(w):\n",
    "    subtracted_bin_centers=np.abs(male_female_bin_centers_w-w)\n",
    "    w_bin_index=np.argsort(subtracted_bin_centers)[0]\n",
    "    w_bin_index_male_female=hist_male_w[w_bin_index]+hist_female_w[w_bin_index]\n",
    "    probability_of_w=w_bin_index_male_female/len(np_male_female_class_float)\n",
    "    return probability_of_w"
   ]
  },
  {
   "cell_type": "code",
   "execution_count": 111,
   "id": "ca9e7c1c",
   "metadata": {},
   "outputs": [
    {
     "name": "stdout",
     "output_type": "stream",
     "text": [
      "0.22185014650481372\n"
     ]
    }
   ],
   "source": [
    "print(compute_probability_of_weight(male_weight[0]))"
   ]
  },
  {
   "cell_type": "markdown",
   "id": "5af18fbc",
   "metadata": {},
   "source": [
    "# Probability of weight given male"
   ]
  },
  {
   "cell_type": "code",
   "execution_count": 112,
   "id": "713d5e3b",
   "metadata": {},
   "outputs": [],
   "source": [
    "mask_male=(np_male_female_class_float==0)\n",
    "number_of_male=sum(mask_male)"
   ]
  },
  {
   "cell_type": "code",
   "execution_count": 113,
   "id": "bafe4500",
   "metadata": {},
   "outputs": [],
   "source": [
    "def compute_probability_of_weight_given_male(w):\n",
    "    subtracted_bin_centers=np.abs(male_female_bin_centers_w-w)\n",
    "    w_bin_index=np.argsort(subtracted_bin_centers)[0]\n",
    "    w_bin_index_male=hist_male_w[w_bin_index]\n",
    "    probability_of_w_male=w_bin_index_male/number_of_male\n",
    "    return probability_of_w_male"
   ]
  },
  {
   "cell_type": "code",
   "execution_count": 114,
   "id": "adcd0598",
   "metadata": {},
   "outputs": [
    {
     "name": "stdout",
     "output_type": "stream",
     "text": [
      "0.31239530988274705\n"
     ]
    }
   ],
   "source": [
    "print(compute_probability_of_weight_given_male(male_weight[0]))"
   ]
  },
  {
   "cell_type": "markdown",
   "id": "97fbe081",
   "metadata": {},
   "source": [
    "# Probability of weight given female"
   ]
  },
  {
   "cell_type": "code",
   "execution_count": 115,
   "id": "d39a8b7e",
   "metadata": {},
   "outputs": [],
   "source": [
    "mask_female=(np_male_female_class_float==1)\n",
    "number_of_female=sum(mask_female)"
   ]
  },
  {
   "cell_type": "code",
   "execution_count": 116,
   "id": "5aa961cf",
   "metadata": {},
   "outputs": [],
   "source": [
    "def compute_probability_of_weight_given_female(w):\n",
    "    subtracted_bin_centers=np.abs(male_female_bin_centers_w-w)\n",
    "    w_bin_index=np.argsort(subtracted_bin_centers)[0]\n",
    "    w_bin_index_female=hist_female_w[w_bin_index]\n",
    "    probability_of_w_female=w_bin_index_female/number_of_female\n",
    "    return probability_of_w_female"
   ]
  },
  {
   "cell_type": "code",
   "execution_count": 117,
   "id": "7deb861f",
   "metadata": {},
   "outputs": [
    {
     "name": "stdout",
     "output_type": "stream",
     "text": [
      "0.13138075313807532\n"
     ]
    }
   ],
   "source": [
    "print(compute_probability_of_weight_given_female(male_weight[0]))"
   ]
  },
  {
   "cell_type": "markdown",
   "id": "812f382e",
   "metadata": {},
   "source": [
    "# Probability of male or female given the height"
   ]
  },
  {
   "cell_type": "code",
   "execution_count": 118,
   "id": "d15a5592",
   "metadata": {},
   "outputs": [],
   "source": [
    "def probability_of_male_or_female_given_the_hight(h):\n",
    "    probability_of_male_given_h=(compute_probability_of_height_given_male(h)*priobability_of_male)/compute_probability_of_height(h)\n",
    "    probability_of_female_given_h=(compute_probability_of_height_given_female(h)*priobability_of_female)/compute_probability_of_height(h)\n",
    "    \n",
    "    if probability_of_female_given_h > probability_of_male_given_h:\n",
    "        return 1\n",
    "    else:\n",
    "        return 0\n",
    "\n",
    "    "
   ]
  },
  {
   "cell_type": "code",
   "execution_count": 119,
   "id": "4a6d9bb9",
   "metadata": {},
   "outputs": [],
   "source": [
    "count_f=0\n",
    "for i in  female_heights:\n",
    "    if probability_of_male_or_female_given_the_hight(i)==1:\n",
    "        count_f+=1"
   ]
  },
  {
   "cell_type": "code",
   "execution_count": 120,
   "id": "e6286b18",
   "metadata": {},
   "outputs": [
    {
     "name": "stdout",
     "output_type": "stream",
     "text": [
      "1074\n",
      "1195\n"
     ]
    }
   ],
   "source": [
    "print(count_f)\n",
    "print(len(female_heights))"
   ]
  },
  {
   "cell_type": "code",
   "execution_count": 121,
   "id": "d3d715d5",
   "metadata": {},
   "outputs": [],
   "source": [
    "count_m=0\n",
    "for i in  male_heights:\n",
    "    if probability_of_male_or_female_given_the_hight(i)==0:\n",
    "        count_m+=1"
   ]
  },
  {
   "cell_type": "code",
   "execution_count": 122,
   "id": "3f8d0b96",
   "metadata": {},
   "outputs": [
    {
     "name": "stdout",
     "output_type": "stream",
     "text": [
      "900\n",
      "1194\n"
     ]
    }
   ],
   "source": [
    "print(count_m)\n",
    "print(len(male_heights))"
   ]
  },
  {
   "cell_type": "markdown",
   "id": "938d2625",
   "metadata": {},
   "source": [
    "# Probability of male or female given the weight"
   ]
  },
  {
   "cell_type": "code",
   "execution_count": 123,
   "id": "7a29c42d",
   "metadata": {},
   "outputs": [],
   "source": [
    "def probability_of_male_or_female_given_the_weight(w):\n",
    "    probability_of_male_given_w=(compute_probability_of_weight_given_male(w)*priobability_of_male)/compute_probability_of_weight(w)\n",
    "    probability_of_female_given_w=(compute_probability_of_weight_given_female(w)*priobability_of_female)/compute_probability_of_weight(w)\n",
    "    \n",
    "    if probability_of_female_given_w > probability_of_male_given_w:\n",
    "        return 1\n",
    "    else:\n",
    "        return 0"
   ]
  },
  {
   "cell_type": "code",
   "execution_count": 124,
   "id": "79f2ea87",
   "metadata": {},
   "outputs": [],
   "source": [
    "count_f=0\n",
    "for i in  female_weight:\n",
    "    if probability_of_male_or_female_given_the_weight(i)==1:\n",
    "        count_f+=1"
   ]
  },
  {
   "cell_type": "code",
   "execution_count": 125,
   "id": "0c7859ae",
   "metadata": {},
   "outputs": [
    {
     "name": "stdout",
     "output_type": "stream",
     "text": [
      "1024\n",
      "1195\n"
     ]
    }
   ],
   "source": [
    "print(count_f)\n",
    "print(len(female_weight))"
   ]
  },
  {
   "cell_type": "code",
   "execution_count": 126,
   "id": "12810f20",
   "metadata": {},
   "outputs": [],
   "source": [
    "count_m=0\n",
    "for i in  male_weight:\n",
    "    if probability_of_male_or_female_given_the_weight(i)==0:\n",
    "        count_m+=1"
   ]
  },
  {
   "cell_type": "code",
   "execution_count": 127,
   "id": "a8ecd3b6",
   "metadata": {},
   "outputs": [
    {
     "name": "stdout",
     "output_type": "stream",
     "text": [
      "581\n",
      "1194\n"
     ]
    }
   ],
   "source": [
    "print(count_m)\n",
    "print(len(male_weight))"
   ]
  },
  {
   "cell_type": "code",
   "execution_count": null,
   "id": "b9672bac",
   "metadata": {},
   "outputs": [],
   "source": []
  }
 ],
 "metadata": {
  "kernelspec": {
   "display_name": "Python 3 (ipykernel)",
   "language": "python",
   "name": "python3"
  },
  "language_info": {
   "codemirror_mode": {
    "name": "ipython",
    "version": 3
   },
   "file_extension": ".py",
   "mimetype": "text/x-python",
   "name": "python",
   "nbconvert_exporter": "python",
   "pygments_lexer": "ipython3",
   "version": "3.11.4"
  }
 },
 "nbformat": 4,
 "nbformat_minor": 5
}
